{
 "cells": [
  {
   "cell_type": "code",
   "execution_count": null,
   "id": "d46c65ed",
   "metadata": {},
   "outputs": [],
   "source": [
    "import largestinteriorrectangle as lir\n",
    "import cv2\n",
    "import numpy as np\n",
    "\n",
    "from skimage.metrics import peak_signal_noise_ratio as psnr\n",
    "from skimage.metrics import structural_similarity as ssim\n",
    "\n",
    "def psnr_ssim_rect(orig_img, rectified_img):\n",
    "    # Convert the image to grayscale\n",
    "    gray = cv2.cvtColor(rectified_img, cv2.COLOR_BGR2GRAY)\n",
    "    # Threshold the image to create a binary image (black and white)\n",
    "    _, thresh = cv2.threshold(gray, 1, 255, cv2.THRESH_BINARY)\n",
    "    grid = thresh.astype(np.bool)\n",
    "\n",
    "    rectangle = lir.lir(grid)\n",
    "    \n",
    "    (x_min, y_min) = lir.pt1(rectangle)\n",
    "    (x_max, y_max) = lir.pt2(rectangle)\n",
    "\n",
    "    # Crop the image using the inscribed rectangle's coordinates\n",
    "    cropped_img = orig_img[y_min:y_max, x_min:x_max]\n",
    "    cropped_img_rect = rectified_img[y_min:y_max, x_min:x_max]\n",
    "\n",
    "    \n",
    "    psnr_out = psnr(cropped_img, cropped_img_rect)\n",
    "    ssim_out = ssim(cropped_img, cropped_img_rect, multichannel=True)\n",
    "\n",
    "    return (psnr_out, ssim_out)"
   ]
  }
 ],
 "metadata": {
  "kernelspec": {
   "display_name": "Python 3 (ipykernel)",
   "language": "python",
   "name": "python3"
  },
  "language_info": {
   "codemirror_mode": {
    "name": "ipython",
    "version": 3
   },
   "file_extension": ".py",
   "mimetype": "text/x-python",
   "name": "python",
   "nbconvert_exporter": "python",
   "pygments_lexer": "ipython3",
   "version": "3.9.13"
  }
 },
 "nbformat": 4,
 "nbformat_minor": 5
}
